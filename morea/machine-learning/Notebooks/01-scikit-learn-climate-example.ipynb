{
 "cells": [
  {
   "cell_type": "markdown",
   "metadata": {},
   "source": [
    "# Decision Trees on Mauna Loa CO2 data"
   ]
  },
  {
   "cell_type": "markdown",
   "metadata": {},
   "source": [
    "## Import required libraries and packages"
   ]
  },
  {
   "cell_type": "code",
   "execution_count": null,
   "metadata": {},
   "outputs": [],
   "source": [
    "# 1) Standard library imports\n",
    "import datetime\n",
    "\n",
    "# 2) Third party library imports\n",
    "import pandas as pd\n",
    "import numpy as np\n",
    "from sklearn import tree\n",
    "from sklearn.datasets import fetch_openml\n",
    "from sklearn.preprocessing import StandardScaler\n",
    "import matplotlib.pyplot as plt\n",
    "\n",
    "# 3) Local application/library imports"
   ]
  },
  {
   "cell_type": "markdown",
   "metadata": {},
   "source": [
    "## Load input data"
   ]
  },
  {
   "cell_type": "code",
   "execution_count": null,
   "metadata": {},
   "outputs": [],
   "source": [
    "co2 = fetch_openml(data_id=41187, as_frame=True, parser=\"pandas\")\n",
    "co2.frame.head()"
   ]
  },
  {
   "cell_type": "markdown",
   "metadata": {},
   "source": [
    "## Data preprocessing"
   ]
  },
  {
   "cell_type": "code",
   "execution_count": null,
   "metadata": {},
   "outputs": [],
   "source": [
    "# Do necessary data type conversion and extract only required columns\n",
    "co2_data = co2.frame\n",
    "co2_data[\"date\"] = pd.to_datetime(co2_data[[\"year\", \"month\", \"day\"]])\n",
    "co2_data = co2_data[[\"date\", \"co2\"]].set_index(\"date\")\n",
    "co2_data.head()"
   ]
  },
  {
   "cell_type": "code",
   "execution_count": null,
   "metadata": {},
   "outputs": [],
   "source": [
    "co2_data.index.min(), co2_data.index.max()"
   ]
  },
  {
   "cell_type": "markdown",
   "metadata": {},
   "source": [
    "### Visualize raw data"
   ]
  },
  {
   "cell_type": "code",
   "execution_count": null,
   "metadata": {},
   "outputs": [],
   "source": [
    "co2_data.plot()\n",
    "plt.ylabel(\"CO$_2$ concentration (ppm)\")\n",
    "_ = plt.title(\"Raw air samples measurements from the Mauna Loa Observatory\")"
   ]
  },
  {
   "cell_type": "markdown",
   "metadata": {},
   "source": [
    "### Resample data to take monthly averages"
   ]
  },
  {
   "cell_type": "code",
   "execution_count": null,
   "metadata": {},
   "outputs": [],
   "source": [
    "co2_data = co2_data.resample(\"M\").mean().dropna(axis=\"index\", how=\"any\")\n",
    "co2_data.plot()\n",
    "plt.ylabel(\"Monthly average of CO$_2$ concentration (ppm)\")\n",
    "_ = plt.title(\n",
    "    \"Monthly average of air samples measurements\\nfrom the Mauna Loa Observatory\"\n",
    ")"
   ]
  },
  {
   "cell_type": "markdown",
   "metadata": {},
   "source": [
    "### Split input features and target variable"
   ]
  },
  {
   "cell_type": "code",
   "execution_count": null,
   "metadata": {},
   "outputs": [],
   "source": [
    "X = (co2_data.index.year + co2_data.index.month / 12).to_numpy().reshape(-1, 1)\n",
    "y = co2_data[\"co2\"].to_numpy()"
   ]
  },
  {
   "cell_type": "markdown",
   "metadata": {},
   "source": [
    "## Model Training"
   ]
  },
  {
   "cell_type": "markdown",
   "metadata": {},
   "source": [
    "### Decision Tree"
   ]
  },
  {
   "cell_type": "markdown",
   "metadata": {},
   "source": [
    "#### Predict Absolute CO2 levels"
   ]
  },
  {
   "cell_type": "code",
   "execution_count": null,
   "metadata": {},
   "outputs": [],
   "source": [
    "regr_1 = tree.DecisionTreeRegressor(max_depth=2)\n",
    "regr_2 = tree.DecisionTreeRegressor(max_depth=11)\n",
    "regr_1.fit(X, y)\n",
    "regr_2.fit(X, y)"
   ]
  },
  {
   "cell_type": "code",
   "execution_count": null,
   "metadata": {},
   "outputs": [],
   "source": [
    "today = datetime.datetime.now()\n",
    "current_month = today.year + today.month / 12\n",
    "X_test = np.linspace(start=1958, stop=current_month, num=1_000).reshape(-1, 1)"
   ]
  },
  {
   "cell_type": "code",
   "execution_count": null,
   "metadata": {},
   "outputs": [],
   "source": [
    "y_1 = regr_1.predict(X_test)\n",
    "y_2 = regr_2.predict(X_test)"
   ]
  },
  {
   "cell_type": "code",
   "execution_count": null,
   "metadata": {},
   "outputs": [],
   "source": [
    "plt.figure()\n",
    "plt.scatter(X, y, s=20, edgecolor=\"black\", c=\"darkorange\", label=\"data\")\n",
    "plt.plot(X_test, y_1, color=\"cornflowerblue\", label=f\"max_depth={regr_1.max_depth}\", linewidth=2)\n",
    "plt.plot(X_test, y_2, color=\"yellowgreen\", label=f\"max_depth={regr_2.max_depth}\", linewidth=2)\n",
    "plt.xlabel(\"data\")\n",
    "plt.ylabel(\"target\")\n",
    "plt.title(\"Decision Tree Regression\")\n",
    "plt.legend()\n",
    "plt.show()"
   ]
  },
  {
   "cell_type": "markdown",
   "metadata": {},
   "source": [
    "#### Predict CO2 level differences using Decision Trees"
   ]
  },
  {
   "cell_type": "code",
   "execution_count": null,
   "metadata": {},
   "outputs": [],
   "source": [
    "def preprocess_data(input_data, train_window):\n",
    "    # Take derivative\n",
    "    input_data = np.concatenate([[0], np.diff(input_data)])\n",
    "    \n",
    "    # Scale values\n",
    "    scaler = StandardScaler()\n",
    "    normalized_data = scaler.fit_transform(input_data.reshape(-1, 1)).reshape(-1)\n",
    "    \n",
    "    # Create input-output pairs\n",
    "    in_seq = []\n",
    "    out_seq = []\n",
    "    L = len(normalized_data)\n",
    "    for i in range(L-train_window-1):\n",
    "        train_seq = normalized_data[i:i+train_window]\n",
    "        train_label = normalized_data[i+train_window:i+train_window+1]\n",
    "        \n",
    "        in_seq.append(train_seq)\n",
    "        out_seq.append(train_label)\n",
    "    return normalized_data, in_seq, out_seq, scaler\n",
    "\n",
    "train_window = 50\n",
    "normalized_data, in_data, out_data, scaler = preprocess_data(list(co2_data[\"co2\"]), train_window)\n"
   ]
  },
  {
   "cell_type": "code",
   "execution_count": null,
   "metadata": {},
   "outputs": [],
   "source": [
    "regr_3 = tree.DecisionTreeRegressor(max_depth=2)\n",
    "regr_3.fit(in_data, out_data)\n",
    "\n",
    "regr_4 = tree.DecisionTreeRegressor(max_depth=10)\n",
    "regr_4.fit(in_data, out_data)\n",
    "\n",
    "regr_5 = tree.DecisionTreeRegressor(max_depth=25)\n",
    "regr_5.fit(in_data, out_data)"
   ]
  },
  {
   "cell_type": "code",
   "execution_count": null,
   "metadata": {},
   "outputs": [],
   "source": [
    "dates = pd.period_range(\"1958\", \"2023\", freq='M').to_timestamp()\n",
    "\n",
    "test_inputs = list(normalized_data)\n",
    "fut_pred_3 = test_inputs.copy()\n",
    "fut_pred_4 = test_inputs.copy()\n",
    "fut_pred_5 = test_inputs.copy()\n",
    "fut_pred_num = len(dates) - len(test_inputs)  # Number of predictions to make.\n",
    "for i in range(fut_pred_num):\n",
    "    seq = fut_pred_3[-train_window:]\n",
    "    prediction = regr_3.predict([seq])\n",
    "    fut_pred_3.append(prediction[0])\n",
    "    \n",
    "    seq = fut_pred_4[-train_window:]\n",
    "    prediction = regr_4.predict([seq])\n",
    "    fut_pred_4.append(prediction[0])\n",
    "    \n",
    "    seq = fut_pred_5[-train_window:]\n",
    "    prediction = regr_5.predict([seq])\n",
    "    fut_pred_5.append(prediction[0])"
   ]
  },
  {
   "cell_type": "code",
   "execution_count": null,
   "metadata": {},
   "outputs": [],
   "source": [
    "plt.figure()\n",
    "plt.plot(dates, fut_pred_3, label=f\"max_depth={regr_3.max_depth}\", linewidth=2)\n",
    "plt.plot(dates, fut_pred_4, label=f\"max_depth={regr_4.max_depth}\", linewidth=2)\n",
    "plt.plot(dates, fut_pred_5, label=f\"max_depth={regr_5.max_depth}\", linewidth=2)\n",
    "plt.plot(dates[0:521], normalized_data, label=f\"true value\", linewidth=2)\n",
    "plt.xlabel(\"data\")\n",
    "plt.ylabel(\"target\")\n",
    "plt.title(\"Decision Tree Regression on Derivative\")\n",
    "plt.legend()\n",
    "plt.show()"
   ]
  },
  {
   "cell_type": "markdown",
   "metadata": {},
   "source": [
    "#### Convert CO2 level differences to absolute CO2 levels"
   ]
  },
  {
   "cell_type": "code",
   "execution_count": null,
   "metadata": {},
   "outputs": [],
   "source": [
    "def postprocess_data(output_data, scaler, first_input):\n",
    "    #unscale the output\n",
    "    output = scaler.inverse_transform(np.array(output_data).reshape(-1, 1)).reshape(-1)\n",
    "    \n",
    "    output = np.cumsum(output) + first_input\n",
    "    \n",
    "    return output\n",
    "\n",
    "decoded_3 = postprocess_data(fut_pred_3, scaler, list(co2_data[\"co2\"])[0])\n",
    "decoded_4 = postprocess_data(fut_pred_4, scaler, list(co2_data[\"co2\"])[0])\n",
    "decoded_5 = postprocess_data(fut_pred_5, scaler, list(co2_data[\"co2\"])[0])"
   ]
  },
  {
   "cell_type": "code",
   "execution_count": null,
   "metadata": {},
   "outputs": [],
   "source": [
    "plt.figure()\n",
    "plt.plot(dates, decoded_3, label=f\"max_depth={regr_3.max_depth}\", linewidth=2)\n",
    "plt.plot(dates, decoded_4, label=f\"max_depth={regr_4.max_depth}\", linewidth=2)\n",
    "plt.plot(dates, decoded_5, label=f\"max_depth={regr_5.max_depth}\", linewidth=2)\n",
    "plt.xlabel(\"data\")\n",
    "plt.ylabel(\"target\")\n",
    "plt.title(\"Decision Tree Regression\")\n",
    "plt.legend()\n",
    "plt.show()"
   ]
  }
 ],
 "metadata": {
  "language_info": {
   "name": "python"
  }
 },
 "nbformat": 4,
 "nbformat_minor": 2
}
