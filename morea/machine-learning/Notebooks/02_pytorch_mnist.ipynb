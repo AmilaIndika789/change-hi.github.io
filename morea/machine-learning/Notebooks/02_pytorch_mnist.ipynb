{
 "cells": [
  {
   "cell_type": "code",
   "execution_count": 1,
   "metadata": {},
   "outputs": [],
   "source": [
    "import matplotlib.pyplot as plt\n",
    "import torch\n",
    "import torch.nn as nn\n",
    "from torch.utils.data import DataLoader\n",
    "from torchvision import datasets\n",
    "from torchvision.transforms import ToTensor"
   ]
  },
  {
   "cell_type": "code",
   "execution_count": 2,
   "metadata": {},
   "outputs": [
    {
     "data": {
      "text/plain": [
       "device(type='mps')"
      ]
     },
     "execution_count": 2,
     "metadata": {},
     "output_type": "execute_result"
    }
   ],
   "source": [
    "torch.device(\n",
    "    \"cuda\"\n",
    "    if torch.cuda.is_available()\n",
    "    else \"mps\"\n",
    "    if torch.backends.mps.is_available()\n",
    "    else \"cpu\"\n",
    ")"
   ]
  },
  {
   "cell_type": "code",
   "execution_count": 3,
   "metadata": {},
   "outputs": [],
   "source": [
    "train_data = datasets.MNIST(\n",
    "    root=\"data\",\n",
    "    train=True,\n",
    "    download=True,\n",
    "    transform=ToTensor(),\n",
    ")\n",
    "\n",
    "test_data = datasets.MNIST(\n",
    "    root=\"data\",\n",
    "    train=False,\n",
    "    download=True,\n",
    "    transform=ToTensor(),\n",
    ")"
   ]
  },
  {
   "cell_type": "code",
   "execution_count": 4,
   "metadata": {},
   "outputs": [
    {
     "name": "stdout",
     "output_type": "stream",
     "text": [
      "Train data:\n",
      " Dataset MNIST\n",
      "    Number of datapoints: 60000\n",
      "    Root location: data\n",
      "    Split: Train\n",
      "    StandardTransform\n",
      "Transform: ToTensor()\n",
      "\n",
      "Test data:\n",
      " Dataset MNIST\n",
      "    Number of datapoints: 10000\n",
      "    Root location: data\n",
      "    Split: Test\n",
      "    StandardTransform\n",
      "Transform: ToTensor()\n"
     ]
    }
   ],
   "source": [
    "print(\"Train data:\\n\", train_data)\n",
    "print(\"\\nTest data:\\n\", test_data)"
   ]
  },
  {
   "cell_type": "code",
   "execution_count": 5,
   "metadata": {},
   "outputs": [
    {
     "data": {
      "image/png": "[encoded data removed]",
      "text/plain": [
       "<Figure size 800x800 with 16 Axes>"
      ]
     },
     "metadata": {},
     "output_type": "display_data"
    }
   ],
   "source": [
    "figure = plt.figure(figsize=(8, 8))\n",
    "cols, rows = 4, 4\n",
    "for i in range(1, cols * rows + 1):\n",
    "    sample_idx = torch.randint(len(train_data), size=(1,)).item()\n",
    "    img, label = train_data[sample_idx]\n",
    "    figure.add_subplot(rows, cols, i)\n",
    "    plt.title(f\"Label: {label}\")\n",
    "    plt.axis(\"off\")\n",
    "    plt.imshow(img.squeeze(), cmap=\"gray\")\n",
    "plt.show()"
   ]
  },
  {
   "cell_type": "code",
   "execution_count": 6,
   "metadata": {},
   "outputs": [],
   "source": [
    "train_dataloader = DataLoader(train_data, batch_size=64, shuffle=True)\n",
    "test_dataloader = DataLoader(test_data, batch_size=64, shuffle=True)"
   ]
  },
  {
   "cell_type": "code",
   "execution_count": 7,
   "metadata": {},
   "outputs": [],
   "source": [
    "class CNN(nn.Module):\n",
    "    def __init__(self):\n",
    "        super().__init__()\n",
    "        self.conv1 = nn.Conv2d(in_channels=1, out_channels=8, kernel_size=3)\n",
    "        self.pool = nn.MaxPool2d(kernel_size=2)\n",
    "        self.conv2 = nn.Conv2d(in_channels=8, out_channels=16, kernel_size=3)\n",
    "        self.fc1 = nn.Linear(in_features=16 * 5 * 5, out_features=128)\n",
    "        self.fc2 = nn.Linear(in_features=128, out_features=10)\n",
    "\n",
    "    def forward(self, x):\n",
    "        x = self.pool(torch.relu(self.conv1(x)))\n",
    "        x = self.pool(torch.relu(self.conv2(x)))\n",
    "        x = torch.flatten(x, 1)\n",
    "        x = torch.relu(self.fc1(x))\n",
    "        x = self.fc2(x)\n",
    "        return x"
   ]
  },
  {
   "cell_type": "code",
   "execution_count": 8,
   "metadata": {},
   "outputs": [
    {
     "name": "stdout",
     "output_type": "stream",
     "text": [
      "CNN(\n",
      "  (conv1): Conv2d(1, 8, kernel_size=(3, 3), stride=(1, 1))\n",
      "  (pool): MaxPool2d(kernel_size=2, stride=2, padding=0, dilation=1, ceil_mode=False)\n",
      "  (conv2): Conv2d(8, 16, kernel_size=(3, 3), stride=(1, 1))\n",
      "  (fc1): Linear(in_features=400, out_features=128, bias=True)\n",
      "  (fc2): Linear(in_features=128, out_features=10, bias=True)\n",
      ")\n"
     ]
    }
   ],
   "source": [
    "model = CNN()\n",
    "print(model)"
   ]
  },
  {
   "cell_type": "code",
   "execution_count": 9,
   "metadata": {},
   "outputs": [],
   "source": [
    "loss_fn = nn.CrossEntropyLoss()\n",
    "optimizer = torch.optim.Adam(model.parameters(), lr=0.001)"
   ]
  },
  {
   "cell_type": "code",
   "execution_count": 10,
   "metadata": {},
   "outputs": [
    {
     "name": "stdout",
     "output_type": "stream",
     "text": [
      "Epoch: 0, Batch: 0, Loss: 2.2953178882598877\n",
      "Epoch: 0, Batch: 400, Loss: 0.1260863095521927\n",
      "Epoch: 0, Batch: 800, Loss: 0.09389975666999817\n",
      "Epoch: 1, Batch: 0, Loss: 0.09787891060113907\n",
      "Epoch: 1, Batch: 400, Loss: 0.11758307367563248\n",
      "Epoch: 1, Batch: 800, Loss: 0.036535874009132385\n",
      "Epoch: 2, Batch: 0, Loss: 0.046887561678886414\n",
      "Epoch: 2, Batch: 400, Loss: 0.1413286328315735\n",
      "Epoch: 2, Batch: 800, Loss: 0.06275244057178497\n",
      "Epoch: 3, Batch: 0, Loss: 0.03601439297199249\n",
      "Epoch: 3, Batch: 400, Loss: 0.015198128297924995\n",
      "Epoch: 3, Batch: 800, Loss: 0.09274444729089737\n",
      "Epoch: 4, Batch: 0, Loss: 0.03338999301195145\n",
      "Epoch: 4, Batch: 400, Loss: 0.07038191705942154\n",
      "Epoch: 4, Batch: 800, Loss: 0.031227435916662216\n",
      "Epoch: 5, Batch: 0, Loss: 0.026214195415377617\n",
      "Epoch: 5, Batch: 400, Loss: 0.08040269464254379\n",
      "Epoch: 5, Batch: 800, Loss: 0.036881931126117706\n",
      "Epoch: 6, Batch: 0, Loss: 0.011896200478076935\n",
      "Epoch: 6, Batch: 400, Loss: 0.02070874534547329\n",
      "Epoch: 6, Batch: 800, Loss: 0.007654137443751097\n",
      "Epoch: 7, Batch: 0, Loss: 0.041317518800497055\n",
      "Epoch: 7, Batch: 400, Loss: 0.009546480141580105\n",
      "Epoch: 7, Batch: 800, Loss: 0.0049569271504879\n",
      "Epoch: 8, Batch: 0, Loss: 0.011140662245452404\n",
      "Epoch: 8, Batch: 400, Loss: 0.00222363555803895\n",
      "Epoch: 8, Batch: 800, Loss: 0.012186938896775246\n",
      "Epoch: 9, Batch: 0, Loss: 0.005119095090776682\n",
      "Epoch: 9, Batch: 400, Loss: 0.006383874453604221\n",
      "Epoch: 9, Batch: 800, Loss: 0.0005414403858594596\n"
     ]
    }
   ],
   "source": [
    "# train\n",
    "epochs = 10\n",
    "train_loss = []\n",
    "\n",
    "for epoch in range(epochs):\n",
    "    epoch_loss = []\n",
    "\n",
    "    # set the model in training phase\n",
    "    model.train()\n",
    "\n",
    "    for batch_idx, (data, target) in enumerate(train_dataloader):\n",
    "        # zero the parameter gradients\n",
    "        # this is because the gradients are accumulated\n",
    "        # so we need to zero them out at each iteration\n",
    "        optimizer.zero_grad()\n",
    "\n",
    "        # forward + backward + optimize\n",
    "        output = model(data)\n",
    "        loss = loss_fn(output, target)\n",
    "\n",
    "        # we save the epoch loss to plot it later\n",
    "        # it is multiplied by the batch size to account for the fact that\n",
    "        # the loss is averaged over the batch\n",
    "        epoch_loss.append(loss.item() * data.size(0))\n",
    "\n",
    "        loss.backward()\n",
    "        optimizer.step()\n",
    "\n",
    "        # print statistics\n",
    "        if batch_idx % 400 == 0:\n",
    "            print(f\"Epoch: {epoch}, Batch: {batch_idx}, Loss: {loss.item()}\")\n",
    "    train_loss.append(sum(epoch_loss) / len(train_data))"
   ]
  },
  {
   "cell_type": "code",
   "execution_count": 11,
   "metadata": {},
   "outputs": [
    {
     "data": {
      "image/png": "[encoded data removed]",
      "text/plain": [
       "<Figure size 640x480 with 1 Axes>"
      ]
     },
     "metadata": {},
     "output_type": "display_data"
    }
   ],
   "source": [
    "plt.plot(train_loss)\n",
    "plt.title(\"Training Loss\")\n",
    "plt.xlabel(\"Epoch\")\n",
    "plt.ylabel(\"Loss\")\n",
    "plt.show()"
   ]
  },
  {
   "cell_type": "code",
   "execution_count": 17,
   "metadata": {},
   "outputs": [
    {
     "name": "stdout",
     "output_type": "stream",
     "text": [
      "Test Loss: 0.03719360748641193\n",
      "Test Accuracy: 98.71%\n"
     ]
    }
   ],
   "source": [
    "# set model to evaluation mode\n",
    "model.eval()\n",
    "\n",
    "# variables to keep track of accuracy\n",
    "test_loss = []\n",
    "correct = 0\n",
    "total = 0\n",
    "\n",
    "# we don't need to compute gradients for the test set\n",
    "with torch.no_grad():\n",
    "    for data, target in test_dataloader:\n",
    "        output = model(data)\n",
    "        loss = loss_fn(output, target)\n",
    "        test_loss.append(loss.item() * data.size(0))\n",
    "        _, predicted = torch.max(output.data, 1)\n",
    "        total += target.size(0)\n",
    "        correct += (predicted == target).sum().item()\n",
    "\n",
    "print(f\"Test Loss: {sum(test_loss) / len(test_data)}\")\n",
    "print(f\"Test Accuracy: {100 * correct / total}%\")"
   ]
  }
 ],
 "metadata": {
  "kernelspec": {
   "display_name": "pangeo",
   "language": "python",
   "name": "python3"
  },
  "language_info": {
   "codemirror_mode": {
    "name": "ipython",
    "version": 3
   },
   "file_extension": ".py",
   "mimetype": "text/x-python",
   "name": "python",
   "nbconvert_exporter": "python",
   "pygments_lexer": "ipython3",
   "version": "3.11.4"
  }
 },
 "nbformat": 4,
 "nbformat_minor": 2
}
